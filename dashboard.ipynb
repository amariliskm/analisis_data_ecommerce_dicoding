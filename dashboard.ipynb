{
  "nbformat": 4,
  "nbformat_minor": 0,
  "metadata": {
    "colab": {
      "provenance": []
    },
    "kernelspec": {
      "name": "python3",
      "display_name": "Python 3"
    },
    "language_info": {
      "name": "python"
    }
  },
  "cells": [
    {
      "cell_type": "code",
      "execution_count": null,
      "metadata": {
        "id": "eWq7eFrMa-6d",
        "colab": {
          "base_uri": "https://localhost:8080/"
        },
        "outputId": "5468d363-bb72-4490-efeb-a4eba8cd5c5c"
      },
      "outputs": [
        {
          "output_type": "stream",
          "name": "stdout",
          "text": [
            "Mounted at /content/drive\n"
          ]
        }
      ],
      "source": [
        "# from google.colab import drive\n",
        "# drive.mount('/content/drive')"
      ]
    },
    {
      "cell_type": "code",
      "source": [
        "!pip install streamlit -q"
      ],
      "metadata": {
        "id": "UWx9D9sNdOXG",
        "colab": {
          "base_uri": "https://localhost:8080/"
        },
        "outputId": "3bb7db63-981d-4280-b0b1-dbf008bd18c0"
      },
      "execution_count": null,
      "outputs": [
        {
          "output_type": "stream",
          "name": "stdout",
          "text": [
            "\u001b[2K     \u001b[90m━━━━━━━━━━━━━━━━━━━━━━━━━━━━━━━━━━━━━━━━\u001b[0m \u001b[32m7.6/7.6 MB\u001b[0m \u001b[31m51.8 MB/s\u001b[0m eta \u001b[36m0:00:00\u001b[0m\n",
            "\u001b[2K     \u001b[90m━━━━━━━━━━━━━━━━━━━━━━━━━━━━━━━━━━━━━━━━\u001b[0m \u001b[32m190.6/190.6 kB\u001b[0m \u001b[31m22.9 MB/s\u001b[0m eta \u001b[36m0:00:00\u001b[0m\n",
            "\u001b[2K     \u001b[90m━━━━━━━━━━━━━━━━━━━━━━━━━━━━━━━━━━━━━━━━\u001b[0m \u001b[32m4.8/4.8 MB\u001b[0m \u001b[31m91.1 MB/s\u001b[0m eta \u001b[36m0:00:00\u001b[0m\n",
            "\u001b[2K     \u001b[90m━━━━━━━━━━━━━━━━━━━━━━━━━━━━━━━━━━━━━━━━\u001b[0m \u001b[32m82.1/82.1 kB\u001b[0m \u001b[31m11.5 MB/s\u001b[0m eta \u001b[36m0:00:00\u001b[0m\n",
            "\u001b[2K     \u001b[90m━━━━━━━━━━━━━━━━━━━━━━━━━━━━━━━━━━━━━━━━\u001b[0m \u001b[32m62.7/62.7 kB\u001b[0m \u001b[31m6.2 MB/s\u001b[0m eta \u001b[36m0:00:00\u001b[0m\n",
            "\u001b[?25h"
          ]
        }
      ]
    },
    {
      "cell_type": "code",
      "source": [
        "%%writefile dashboard.py\n",
        "import streamlit as st\n",
        "import pandas as pd\n",
        "import matplotlib.pyplot as plt\n",
        "import seaborn as sns\n",
        "\n",
        "# Set the title and subheader of your Streamlit app\n",
        "st.title(\n",
        "    \"E-commerce Insights\"\n",
        ")\n",
        "\n",
        "\n",
        "# Load the cleaned data from a CSV file\n",
        "df_order_items = pd.read_csv(f\"https://drive.google.com/uc?id=1bHuR_lcv1czJ0yoStRJYzLH-K4Bs6HML\")\n",
        "orders = pd.read_csv(f\"https://drive.google.com/uc?id=1VYEArGUX640lxJgQYfQHGlfyoshd5R8a\")\n",
        "\n",
        "#1\n",
        "st.subheader(\"Category barang yang paling banyak dibeli dan paling sedikit diminati\")\n",
        "fig, ax = plt.subplots(nrows=1, ncols=2, figsize=(45, 15))\n",
        "df_category = df_order_items.groupby(by=\"product_category_name_english\")[\"product_id\"].count().reset_index() #jumlah pembelian\n",
        "df_category = df_category.rename(columns={\"product_category_name_english\": \"category\", \"product_id\": \"orders\"})\n",
        "\n",
        "# fig, ax = plt.subplots(nrows=1, ncols=2, figsize=(24, 6))\n",
        "\n",
        "colors = [\"#102cd4\", \"#D3D3D3\", \"#D3D3D3\", \"#D3D3D3\", \"#D3D3D3\"]\n",
        "\n",
        "sns.barplot(x=\"orders\", y=\"category\", data=df_category.sort_values(by=\"orders\", ascending=False).head(5), palette=colors, ax=ax[0])\n",
        "ax[0].set_ylabel(None)\n",
        "ax[0].set_xlabel(None)\n",
        "ax[0].set_title(\"Category Terlaris\", loc=\"center\", fontsize=15)\n",
        "ax[0].tick_params(axis ='y', labelsize=12)\n",
        "\n",
        "sns.barplot(x=\"orders\", y=\"category\", data=df_category.sort_values(by=\"orders\", ascending=True).head(5), palette=colors, ax=ax[1])\n",
        "ax[1].set_ylabel(None)\n",
        "ax[1].set_xlabel(None)\n",
        "ax[1].invert_xaxis()\n",
        "ax[1].yaxis.set_label_position(\"right\")\n",
        "ax[1].yaxis.tick_right()\n",
        "ax[1].set_title(\"Category Sedikit Peminat\", loc=\"center\", fontsize=15)\n",
        "ax[1].tick_params(axis='y', labelsize=12)\n",
        "\n",
        "plt.suptitle(\"Category Terlaris dan Sedikit Peminat berdasarkan Total Pembelian\", fontsize=20)\n",
        "sns.despine()\n",
        "st.pyplot(fig)\n",
        "\n",
        "#3\n",
        "st.subheader(\"Payment Value dari Tiap Payment Type\")\n",
        "fig = plt.figure(figsize=[10, 5])\n",
        "df_payment = orders.groupby(by=\"payment_type\")[\"payment_value\"].mean().reset_index()\n",
        "# plt.figure(figsize=(10, 5))\n",
        "\n",
        "colors = [\"#102cd4\", \"#D3D3D3\", \"#D3D3D3\", \"#D3D3D3\"]\n",
        "\n",
        "sns.barplot(\n",
        "    x=\"payment_type\",\n",
        "    y=\"payment_value\",\n",
        "    data=df_payment.sort_values(by=\"payment_value\", ascending = False),\n",
        "    palette=colors\n",
        ")\n",
        "plt.title(\"Payment Tyoe\", loc=\"center\", fontsize=15)\n",
        "plt.ylabel(\"nilai transaksi\")\n",
        "plt.xlabel(None)\n",
        "plt.tick_params(axis='x', labelsize=12)\n",
        "sns.despine()\n",
        "st.pyplot(fig)\n",
        "\n",
        "fig = plt.figure(figsize=[15, 8])\n",
        "df_payment = orders.groupby(by=\"payment_type\")[\"order_id\"].nunique().reset_index()\n",
        "palette_color = sns.color_palette('Blues')\n",
        "\n",
        "plt.pie(df_payment[\"order_id\"], labels=df_payment[\"payment_type\"], colors=palette_color, autopct='%.0f%%')\n",
        "plt.title(\"Payment Type Distribution\")\n",
        "sns.despine()\n",
        "st.pyplot(fig)\n",
        "\n",
        "#4\n",
        "st.subheader(\"Perbandingan Penjualan Tahun 2017 dan 2018\")\n",
        "fig = plt.figure(figsize=[15, 8])\n",
        "orders['order_purchase_timestamp'] = pd.to_datetime(orders['order_purchase_timestamp'])\n",
        "\n",
        "# Extract month and year from the 'order_purchase_timestamp'\n",
        "orders['nomor_bulan'] = orders['order_purchase_timestamp'].dt.strftime('%m')\n",
        "orders['year'] = orders['order_purchase_timestamp'].dt.year\n",
        "\n",
        "# Group by month and year, and count unique order IDs\n",
        "df_tanggal_penjualan = orders.groupby(['nomor_bulan', 'year'])['order_id'].nunique().reset_index()\n",
        "df_tanggal_penjualan['nomor_bulan'] = df_tanggal_penjualan['nomor_bulan'].astype(int)\n",
        "df_tanggal_penjualan = df_tanggal_penjualan[df_tanggal_penjualan['nomor_bulan'] < 9]\n",
        "\n",
        "# Define month names\n",
        "month_names = {\n",
        "    1: 'Jan',\n",
        "    2: 'Feb',\n",
        "    3: 'Mar',\n",
        "    4: 'Apr',\n",
        "    5: 'Mei',\n",
        "    6: 'Jun',\n",
        "    7: 'Jul',\n",
        "    8: 'Aug'\n",
        "}\n",
        "df_tanggal_penjualan['nama_bulan'] = df_tanggal_penjualan['nomor_bulan'].map(month_names)\n",
        "\n",
        "# Create a bar plot using Seaborn\n",
        "custom_palette = [\"#0DA6D1\", \"#102cd4\"]\n",
        "sns.set(style=\"whitegrid\")\n",
        "sns.barplot(x='nama_bulan', y='order_id', hue='year', data=df_tanggal_penjualan, palette=custom_palette)\n",
        "st.pyplot(fig)\n",
        "\n",
        "#5\n",
        "st.subheader(\"Penjualan Perbulan\")\n",
        "fig = plt.figure(figsize=[20, 8])\n",
        "df_tanggal =  orders.groupby(by=[\"month\",\"year\"]).order_id.nunique().reset_index()\n",
        "df_tanggal[\"month\"] = pd.to_datetime(df_tanggal[\"month\"], format='%m-%Y')\n",
        "# plt.figure(figsize=(20, 6))\n",
        "\n",
        "ax = sns.lineplot(x='month', y='order_id', data=df_tanggal, estimator=None,linewidth=3)\n",
        "ax.set(xticks=df_tanggal.month.values)\n",
        "\n",
        "plt.title(\"Tren Pertumbuhan Penjualan\", loc=\"center\", fontsize=18)\n",
        "plt.ylabel(\"total order\")\n",
        "plt.xlabel(None)\n",
        "ax.grid(False)\n",
        "for tick in ax.get_xticklabels():\n",
        "    tick.set_rotation(45)\n",
        "sns.despine()\n",
        "st.pyplot(fig)\n",
        "\n",
        "#6\n",
        "st.subheader(\"Hari dan bagian hari yang paling aktif menjual\")\n",
        "fig = plt.figure(figsize=[15, 8])\n",
        "df_bagian_hari = orders.groupby(by=\"waktu_hari_pembelian\")[\"order_id\"].nunique().reset_index()\n",
        "df_bagian_hari.rename(columns={\n",
        "    \"order_id\": \"total_orders\"\n",
        "}, inplace=True)\n",
        "\n",
        "# plt.figure(figsize=(10, 5))\n",
        "\n",
        "colors = [\"#D3D3D3\", \"#D3D3D3\", \"#102cd4\", \"#D3D3D3\"]\n",
        "\n",
        "sns.barplot(\n",
        "    x=\"waktu_hari_pembelian\",\n",
        "    y=\"total_orders\",\n",
        "    data=df_bagian_hari.sort_values(by=\"total_orders\"),\n",
        "    palette=colors\n",
        ")\n",
        "plt.title(\"persebaran pembelian berdasarkan bagian hari\", loc=\"center\", fontsize=15)\n",
        "plt.ylabel(\"total order\")\n",
        "plt.xlabel(None)\n",
        "plt.tick_params(axis='x', labelsize=12)\n",
        "sns.despine()\n",
        "st.pyplot(fig)\n",
        "\n",
        "#----\n",
        "df_hari = orders.groupby(by=\"hari_pembelian\").order_id.nunique().sort_values(ascending=False).reset_index()\n",
        "fig = plt.figure(figsize=[15, 8])\n",
        "df_hari.rename(columns={\n",
        "    \"order_id\": \"total_orders\"\n",
        "}, inplace=True)\n",
        "# plt.figure(figsize=(10, 5))\n",
        "\n",
        "colors = [\"#D3D3D3\", \"#D3D3D3\",\"#D3D3D3\", \"#D3D3D3\",\"#D3D3D3\", \"#D3D3D3\", \"#102cd4\"]\n",
        "\n",
        "sns.barplot(\n",
        "    x=\"hari_pembelian\",\n",
        "    y=\"total_orders\",\n",
        "    data=df_hari.sort_values(by=\"total_orders\"),\n",
        "    palette=colors\n",
        ")\n",
        "plt.title(\"persebaran pembelian berdasarkan hari\", loc=\"center\", fontsize=15)\n",
        "plt.ylabel(\"total order\")\n",
        "plt.xlabel(None)\n",
        "plt.tick_params(axis='x', labelsize=12)\n",
        "sns.despine()\n",
        "st.pyplot(fig)\n"
      ],
      "metadata": {
        "colab": {
          "base_uri": "https://localhost:8080/"
        },
        "id": "7Q_1HvT7dRFS",
        "outputId": "6c3a6c66-0b2c-459b-e73d-8dacfeab3717"
      },
      "execution_count": null,
      "outputs": [
        {
          "output_type": "stream",
          "name": "stdout",
          "text": [
            "Overwriting dashboard.py\n"
          ]
        }
      ]
    },
    {
      "cell_type": "code",
      "source": [
        "! pip install streamlit -q\n",
        "!wget -q -O - ipv4.icanhazip.com"
      ],
      "metadata": {
        "colab": {
          "base_uri": "https://localhost:8080/"
        },
        "id": "49GrkXmvfroY",
        "outputId": "69bf1abd-5287-46ab-9fde-cd558c8fec1f"
      },
      "execution_count": null,
      "outputs": [
        {
          "output_type": "stream",
          "name": "stdout",
          "text": [
            "34.27.224.68\n"
          ]
        }
      ]
    },
    {
      "cell_type": "code",
      "source": [
        "! streamlit run dashboard.py & npx localtunnel --port 8501"
      ],
      "metadata": {
        "colab": {
          "base_uri": "https://localhost:8080/"
        },
        "id": "SViCm2Lslt0y",
        "outputId": "d795264a-678e-4905-c210-e7d79e49e221"
      },
      "execution_count": null,
      "outputs": [
        {
          "output_type": "stream",
          "name": "stdout",
          "text": [
            "[##................] / fetchMetadata: sill resolveWithNewModule ms@2.1.2 checki\u001b[0m\u001b[K\n",
            "Collecting usage statistics. To deactivate, set browser.gatherUsageStats to False.\n",
            "\u001b[0m\n",
            "\u001b[0m\n",
            "\u001b[34m\u001b[1m  You can now view your Streamlit app in your browser.\u001b[0m\n",
            "\u001b[0m\n",
            "\u001b[34m  Network URL: \u001b[0m\u001b[1mhttp://172.28.0.12:8501\u001b[0m\n",
            "\u001b[34m  External URL: \u001b[0m\u001b[1mhttp://34.27.224.68:8501\u001b[0m\n",
            "\u001b[0m\n",
            "\u001b[K\u001b[?25hnpx: installed 22 in 4.08s\n",
            "your url is: https://icy-seals-ask.loca.lt\n",
            "\u001b[34m  Stopping...\u001b[0m\n",
            "^C\n"
          ]
        }
      ]
    }
  ]
}